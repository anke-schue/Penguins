{
  "nbformat": 4,
  "nbformat_minor": 0,
  "metadata": {
    "colab": {
      "provenance": [],
      "toc_visible": true
    },
    "kernelspec": {
      "name": "python3",
      "display_name": "Python 3"
    },
    "language_info": {
      "name": "python"
    }
  },
  "cells": [
    {
      "cell_type": "markdown",
      "source": [
        "# Projektarbeit opencampus.sh Kurs 23S\n",
        "## Mathematik für maschinelles Lernen\n",
        "\n",
        "- Andreas Gatz\n",
        "- Sandra Krause\n",
        "- Anke Schürmann\n",
        "- Annika Strupp"
      ],
      "metadata": {
        "id": "0NVIqEM2R81c"
      }
    },
    {
      "cell_type": "markdown",
      "source": [
        "### Vorbereitung"
      ],
      "metadata": {
        "id": "uozKsW74OZHn"
      }
    },
    {
      "cell_type": "code",
      "execution_count": null,
      "metadata": {
        "id": "TF6qpiFFkBYI"
      },
      "outputs": [],
      "source": [
        "# lade Python Paket pandas mit Alias pd\n",
        "import pandas as pd\n",
        "# lade matplotlib.pyplot mit Alias plt\n",
        "import matplotlib.pyplot as plt\n",
        "# lade Grafikpaket seaborn mit Alias sns\n",
        "import seaborn as sns"
      ]
    },
    {
      "cell_type": "code",
      "source": [
        "# Ausgabe der verfügbaren / geladenen pandas Version\n",
        "print(pd.__version__)"
      ],
      "metadata": {
        "colab": {
          "base_uri": "https://localhost:8080/"
        },
        "id": "KEBWQwh4krMq",
        "outputId": "f5a43fe5-34b2-4227-ff65-ae60126c8468"
      },
      "execution_count": null,
      "outputs": [
        {
          "output_type": "stream",
          "name": "stdout",
          "text": [
            "1.5.3\n"
          ]
        }
      ]
    },
    {
      "cell_type": "markdown",
      "source": [
        "### Datensatz einlesen und kennenlernen"
      ],
      "metadata": {
        "id": "cdVSVSFiOgBh"
      }
    },
    {
      "cell_type": "code",
      "source": [
        "# lese CSV penguins_size.csv ein (als pandas dataframe mit Namen penguins)\n",
        "# heruntergeladen von Kaggle, links im Upload-Menü in das Notebook hochladen\n",
        "# https://www.kaggle.com/datasets/parulpandey/palmer-archipelago-antarctica-penguin-data\n",
        "penguins = pd.read_csv(\"penguins_size.csv\")"
      ],
      "metadata": {
        "id": "9gENSEQgk3H2",
        "colab": {
          "base_uri": "https://localhost:8080/",
          "height": 342
        },
        "outputId": "126adc24-9a29-4734-9155-adfe18a14f87"
      },
      "execution_count": null,
      "outputs": [
        {
          "output_type": "error",
          "ename": "FileNotFoundError",
          "evalue": "ignored",
          "traceback": [
            "\u001b[0;31m---------------------------------------------------------------------------\u001b[0m",
            "\u001b[0;31mFileNotFoundError\u001b[0m                         Traceback (most recent call last)",
            "\u001b[0;32m<ipython-input-6-f4ab58b70f78>\u001b[0m in \u001b[0;36m<cell line: 4>\u001b[0;34m()\u001b[0m\n\u001b[1;32m      2\u001b[0m \u001b[0;31m# heruntergeladen von Kaggle, links im Upload-Menü in das Notebook hochladen\u001b[0m\u001b[0;34m\u001b[0m\u001b[0;34m\u001b[0m\u001b[0m\n\u001b[1;32m      3\u001b[0m \u001b[0;31m# https://www.kaggle.com/datasets/parulpandey/palmer-archipelago-antarctica-penguin-data\u001b[0m\u001b[0;34m\u001b[0m\u001b[0;34m\u001b[0m\u001b[0m\n\u001b[0;32m----> 4\u001b[0;31m \u001b[0mpenguins\u001b[0m \u001b[0;34m=\u001b[0m \u001b[0mpd\u001b[0m\u001b[0;34m.\u001b[0m\u001b[0mread_csv\u001b[0m\u001b[0;34m(\u001b[0m\u001b[0;34m\"penguins_size.csv\"\u001b[0m\u001b[0;34m)\u001b[0m\u001b[0;34m\u001b[0m\u001b[0;34m\u001b[0m\u001b[0m\n\u001b[0m",
            "\u001b[0;32m/usr/local/lib/python3.10/dist-packages/pandas/util/_decorators.py\u001b[0m in \u001b[0;36mwrapper\u001b[0;34m(*args, **kwargs)\u001b[0m\n\u001b[1;32m    209\u001b[0m                 \u001b[0;32melse\u001b[0m\u001b[0;34m:\u001b[0m\u001b[0;34m\u001b[0m\u001b[0;34m\u001b[0m\u001b[0m\n\u001b[1;32m    210\u001b[0m                     \u001b[0mkwargs\u001b[0m\u001b[0;34m[\u001b[0m\u001b[0mnew_arg_name\u001b[0m\u001b[0;34m]\u001b[0m \u001b[0;34m=\u001b[0m \u001b[0mnew_arg_value\u001b[0m\u001b[0;34m\u001b[0m\u001b[0;34m\u001b[0m\u001b[0m\n\u001b[0;32m--> 211\u001b[0;31m             \u001b[0;32mreturn\u001b[0m \u001b[0mfunc\u001b[0m\u001b[0;34m(\u001b[0m\u001b[0;34m*\u001b[0m\u001b[0margs\u001b[0m\u001b[0;34m,\u001b[0m \u001b[0;34m**\u001b[0m\u001b[0mkwargs\u001b[0m\u001b[0;34m)\u001b[0m\u001b[0;34m\u001b[0m\u001b[0;34m\u001b[0m\u001b[0m\n\u001b[0m\u001b[1;32m    212\u001b[0m \u001b[0;34m\u001b[0m\u001b[0m\n\u001b[1;32m    213\u001b[0m         \u001b[0;32mreturn\u001b[0m \u001b[0mcast\u001b[0m\u001b[0;34m(\u001b[0m\u001b[0mF\u001b[0m\u001b[0;34m,\u001b[0m \u001b[0mwrapper\u001b[0m\u001b[0;34m)\u001b[0m\u001b[0;34m\u001b[0m\u001b[0;34m\u001b[0m\u001b[0m\n",
            "\u001b[0;32m/usr/local/lib/python3.10/dist-packages/pandas/util/_decorators.py\u001b[0m in \u001b[0;36mwrapper\u001b[0;34m(*args, **kwargs)\u001b[0m\n\u001b[1;32m    329\u001b[0m                     \u001b[0mstacklevel\u001b[0m\u001b[0;34m=\u001b[0m\u001b[0mfind_stack_level\u001b[0m\u001b[0;34m(\u001b[0m\u001b[0;34m)\u001b[0m\u001b[0;34m,\u001b[0m\u001b[0;34m\u001b[0m\u001b[0;34m\u001b[0m\u001b[0m\n\u001b[1;32m    330\u001b[0m                 )\n\u001b[0;32m--> 331\u001b[0;31m             \u001b[0;32mreturn\u001b[0m \u001b[0mfunc\u001b[0m\u001b[0;34m(\u001b[0m\u001b[0;34m*\u001b[0m\u001b[0margs\u001b[0m\u001b[0;34m,\u001b[0m \u001b[0;34m**\u001b[0m\u001b[0mkwargs\u001b[0m\u001b[0;34m)\u001b[0m\u001b[0;34m\u001b[0m\u001b[0;34m\u001b[0m\u001b[0m\n\u001b[0m\u001b[1;32m    332\u001b[0m \u001b[0;34m\u001b[0m\u001b[0m\n\u001b[1;32m    333\u001b[0m         \u001b[0;31m# error: \"Callable[[VarArg(Any), KwArg(Any)], Any]\" has no\u001b[0m\u001b[0;34m\u001b[0m\u001b[0;34m\u001b[0m\u001b[0m\n",
            "\u001b[0;32m/usr/local/lib/python3.10/dist-packages/pandas/io/parsers/readers.py\u001b[0m in \u001b[0;36mread_csv\u001b[0;34m(filepath_or_buffer, sep, delimiter, header, names, index_col, usecols, squeeze, prefix, mangle_dupe_cols, dtype, engine, converters, true_values, false_values, skipinitialspace, skiprows, skipfooter, nrows, na_values, keep_default_na, na_filter, verbose, skip_blank_lines, parse_dates, infer_datetime_format, keep_date_col, date_parser, dayfirst, cache_dates, iterator, chunksize, compression, thousands, decimal, lineterminator, quotechar, quoting, doublequote, escapechar, comment, encoding, encoding_errors, dialect, error_bad_lines, warn_bad_lines, on_bad_lines, delim_whitespace, low_memory, memory_map, float_precision, storage_options)\u001b[0m\n\u001b[1;32m    948\u001b[0m     \u001b[0mkwds\u001b[0m\u001b[0;34m.\u001b[0m\u001b[0mupdate\u001b[0m\u001b[0;34m(\u001b[0m\u001b[0mkwds_defaults\u001b[0m\u001b[0;34m)\u001b[0m\u001b[0;34m\u001b[0m\u001b[0;34m\u001b[0m\u001b[0m\n\u001b[1;32m    949\u001b[0m \u001b[0;34m\u001b[0m\u001b[0m\n\u001b[0;32m--> 950\u001b[0;31m     \u001b[0;32mreturn\u001b[0m \u001b[0m_read\u001b[0m\u001b[0;34m(\u001b[0m\u001b[0mfilepath_or_buffer\u001b[0m\u001b[0;34m,\u001b[0m \u001b[0mkwds\u001b[0m\u001b[0;34m)\u001b[0m\u001b[0;34m\u001b[0m\u001b[0;34m\u001b[0m\u001b[0m\n\u001b[0m\u001b[1;32m    951\u001b[0m \u001b[0;34m\u001b[0m\u001b[0m\n\u001b[1;32m    952\u001b[0m \u001b[0;34m\u001b[0m\u001b[0m\n",
            "\u001b[0;32m/usr/local/lib/python3.10/dist-packages/pandas/io/parsers/readers.py\u001b[0m in \u001b[0;36m_read\u001b[0;34m(filepath_or_buffer, kwds)\u001b[0m\n\u001b[1;32m    603\u001b[0m \u001b[0;34m\u001b[0m\u001b[0m\n\u001b[1;32m    604\u001b[0m     \u001b[0;31m# Create the parser.\u001b[0m\u001b[0;34m\u001b[0m\u001b[0;34m\u001b[0m\u001b[0m\n\u001b[0;32m--> 605\u001b[0;31m     \u001b[0mparser\u001b[0m \u001b[0;34m=\u001b[0m \u001b[0mTextFileReader\u001b[0m\u001b[0;34m(\u001b[0m\u001b[0mfilepath_or_buffer\u001b[0m\u001b[0;34m,\u001b[0m \u001b[0;34m**\u001b[0m\u001b[0mkwds\u001b[0m\u001b[0;34m)\u001b[0m\u001b[0;34m\u001b[0m\u001b[0;34m\u001b[0m\u001b[0m\n\u001b[0m\u001b[1;32m    606\u001b[0m \u001b[0;34m\u001b[0m\u001b[0m\n\u001b[1;32m    607\u001b[0m     \u001b[0;32mif\u001b[0m \u001b[0mchunksize\u001b[0m \u001b[0;32mor\u001b[0m \u001b[0miterator\u001b[0m\u001b[0;34m:\u001b[0m\u001b[0;34m\u001b[0m\u001b[0;34m\u001b[0m\u001b[0m\n",
            "\u001b[0;32m/usr/local/lib/python3.10/dist-packages/pandas/io/parsers/readers.py\u001b[0m in \u001b[0;36m__init__\u001b[0;34m(self, f, engine, **kwds)\u001b[0m\n\u001b[1;32m   1440\u001b[0m \u001b[0;34m\u001b[0m\u001b[0m\n\u001b[1;32m   1441\u001b[0m         \u001b[0mself\u001b[0m\u001b[0;34m.\u001b[0m\u001b[0mhandles\u001b[0m\u001b[0;34m:\u001b[0m \u001b[0mIOHandles\u001b[0m \u001b[0;34m|\u001b[0m \u001b[0;32mNone\u001b[0m \u001b[0;34m=\u001b[0m \u001b[0;32mNone\u001b[0m\u001b[0;34m\u001b[0m\u001b[0;34m\u001b[0m\u001b[0m\n\u001b[0;32m-> 1442\u001b[0;31m         \u001b[0mself\u001b[0m\u001b[0;34m.\u001b[0m\u001b[0m_engine\u001b[0m \u001b[0;34m=\u001b[0m \u001b[0mself\u001b[0m\u001b[0;34m.\u001b[0m\u001b[0m_make_engine\u001b[0m\u001b[0;34m(\u001b[0m\u001b[0mf\u001b[0m\u001b[0;34m,\u001b[0m \u001b[0mself\u001b[0m\u001b[0;34m.\u001b[0m\u001b[0mengine\u001b[0m\u001b[0;34m)\u001b[0m\u001b[0;34m\u001b[0m\u001b[0;34m\u001b[0m\u001b[0m\n\u001b[0m\u001b[1;32m   1443\u001b[0m \u001b[0;34m\u001b[0m\u001b[0m\n\u001b[1;32m   1444\u001b[0m     \u001b[0;32mdef\u001b[0m \u001b[0mclose\u001b[0m\u001b[0;34m(\u001b[0m\u001b[0mself\u001b[0m\u001b[0;34m)\u001b[0m \u001b[0;34m->\u001b[0m \u001b[0;32mNone\u001b[0m\u001b[0;34m:\u001b[0m\u001b[0;34m\u001b[0m\u001b[0;34m\u001b[0m\u001b[0m\n",
            "\u001b[0;32m/usr/local/lib/python3.10/dist-packages/pandas/io/parsers/readers.py\u001b[0m in \u001b[0;36m_make_engine\u001b[0;34m(self, f, engine)\u001b[0m\n\u001b[1;32m   1733\u001b[0m                 \u001b[0;32mif\u001b[0m \u001b[0;34m\"b\"\u001b[0m \u001b[0;32mnot\u001b[0m \u001b[0;32min\u001b[0m \u001b[0mmode\u001b[0m\u001b[0;34m:\u001b[0m\u001b[0;34m\u001b[0m\u001b[0;34m\u001b[0m\u001b[0m\n\u001b[1;32m   1734\u001b[0m                     \u001b[0mmode\u001b[0m \u001b[0;34m+=\u001b[0m \u001b[0;34m\"b\"\u001b[0m\u001b[0;34m\u001b[0m\u001b[0;34m\u001b[0m\u001b[0m\n\u001b[0;32m-> 1735\u001b[0;31m             self.handles = get_handle(\n\u001b[0m\u001b[1;32m   1736\u001b[0m                 \u001b[0mf\u001b[0m\u001b[0;34m,\u001b[0m\u001b[0;34m\u001b[0m\u001b[0;34m\u001b[0m\u001b[0m\n\u001b[1;32m   1737\u001b[0m                 \u001b[0mmode\u001b[0m\u001b[0;34m,\u001b[0m\u001b[0;34m\u001b[0m\u001b[0;34m\u001b[0m\u001b[0m\n",
            "\u001b[0;32m/usr/local/lib/python3.10/dist-packages/pandas/io/common.py\u001b[0m in \u001b[0;36mget_handle\u001b[0;34m(path_or_buf, mode, encoding, compression, memory_map, is_text, errors, storage_options)\u001b[0m\n\u001b[1;32m    854\u001b[0m         \u001b[0;32mif\u001b[0m \u001b[0mioargs\u001b[0m\u001b[0;34m.\u001b[0m\u001b[0mencoding\u001b[0m \u001b[0;32mand\u001b[0m \u001b[0;34m\"b\"\u001b[0m \u001b[0;32mnot\u001b[0m \u001b[0;32min\u001b[0m \u001b[0mioargs\u001b[0m\u001b[0;34m.\u001b[0m\u001b[0mmode\u001b[0m\u001b[0;34m:\u001b[0m\u001b[0;34m\u001b[0m\u001b[0;34m\u001b[0m\u001b[0m\n\u001b[1;32m    855\u001b[0m             \u001b[0;31m# Encoding\u001b[0m\u001b[0;34m\u001b[0m\u001b[0;34m\u001b[0m\u001b[0m\n\u001b[0;32m--> 856\u001b[0;31m             handle = open(\n\u001b[0m\u001b[1;32m    857\u001b[0m                 \u001b[0mhandle\u001b[0m\u001b[0;34m,\u001b[0m\u001b[0;34m\u001b[0m\u001b[0;34m\u001b[0m\u001b[0m\n\u001b[1;32m    858\u001b[0m                 \u001b[0mioargs\u001b[0m\u001b[0;34m.\u001b[0m\u001b[0mmode\u001b[0m\u001b[0;34m,\u001b[0m\u001b[0;34m\u001b[0m\u001b[0;34m\u001b[0m\u001b[0m\n",
            "\u001b[0;31mFileNotFoundError\u001b[0m: [Errno 2] No such file or directory: 'penguins_size.csv'"
          ]
        }
      ]
    },
    {
      "cell_type": "markdown",
      "source": [
        "**Daten:** Gorman KB, Williams TD, Fraser WR (2014) Ecological Sexual Dimorphism and Environmental Variability within a Community of Antarctic Penguins (Genus Pygoscelis). PLoS ONE 9(3): e90081. doi:10.1371/journal.pone.0090081\n",
        "\n",
        "**Datenlizenz:** https://creativecommons.org/publicdomain/zero/1.0/\n",
        "\n",
        "**Artwork by @allison_horst:** Horst AM, Hill AP, Gorman KB (2020). palmerpenguins: Palmer Archipelago (Antarctica) penguin data. R package version 0.1.0. https://allisonhorst.github.io/palmerpenguins/. doi: 10.5281/zenodo.3960218.\n",
        "\n",
        "**Artwork Lizenz:** https://allisonhorst.github.io/palmerpenguins/"
      ],
      "metadata": {
        "id": "vi58LahQmmaJ"
      }
    },
    {
      "cell_type": "markdown",
      "source": [
        "![allisonhorst.github.io/palmerpenguins/](https://allisonhorst.github.io/palmerpenguins/reference/figures/lter_penguins.png)"
      ],
      "metadata": {
        "id": "EgS_0evNpk_F"
      }
    },
    {
      "cell_type": "code",
      "source": [
        "# Ausgabe dataframe (Spalten und Zeilen) penguins\n",
        "penguins"
      ],
      "metadata": {
        "id": "WGFm-k_pm1dA"
      },
      "execution_count": null,
      "outputs": []
    },
    {
      "cell_type": "code",
      "source": [
        "# alternativ: einfache Ausgabe dataframe (Spalten und Zeilen) penguins\n",
        "print(penguins)"
      ],
      "metadata": {
        "id": "ETFvOVInlgdb"
      },
      "execution_count": null,
      "outputs": []
    },
    {
      "cell_type": "code",
      "source": [
        "# Ausgabe von Informationen zum dataframe penguins\n",
        "print(penguins.info())"
      ],
      "metadata": {
        "id": "lshisozfl1B7"
      },
      "execution_count": null,
      "outputs": []
    },
    {
      "cell_type": "markdown",
      "source": [
        "![allisonhorst.github.io/palmerpenguins](https://allisonhorst.github.io/palmerpenguins/reference/figures/culmen_depth.png)"
      ],
      "metadata": {
        "id": "DORat_SLpCWN"
      }
    },
    {
      "cell_type": "code",
      "source": [
        "# alternativ, oder zusätzlich: wende Methode describe() auf dataframe penguins an\n",
        "penguins.describe()"
      ],
      "metadata": {
        "id": "zEqnm9sNmnc3"
      },
      "execution_count": null,
      "outputs": []
    },
    {
      "cell_type": "markdown",
      "source": [
        "### Datenvorverarbeitung"
      ],
      "metadata": {
        "id": "eXS7Yl2gO0Iz"
      }
    },
    {
      "cell_type": "code",
      "source": [
        "# Spalte species in Faktor numerische \"category\" umwandeln für spätere Klassifikation\n",
        "penguins[\"target\"] = penguins[\"species\"].astype(\"category\")\n",
        "penguins[\"target\"] = penguins[\"target\"].cat.codes\n",
        "penguins[\"target\"].unique()"
      ],
      "metadata": {
        "id": "wSI1JJAnBvaI"
      },
      "execution_count": null,
      "outputs": []
    },
    {
      "cell_type": "code",
      "source": [
        "# verwerfe alle Zeilen mit fehlenden Werten (missing vaues, NULL values)\n",
        "dropna_penguins = penguins.dropna()\n",
        "dropna_penguins\n",
        "# bleiben 334 von 344 Zeilen"
      ],
      "metadata": {
        "id": "SeQlVcvWm_5E"
      },
      "execution_count": null,
      "outputs": []
    },
    {
      "cell_type": "markdown",
      "source": [
        "### Daten näher kennenlernen"
      ],
      "metadata": {
        "id": "dSRhIdnsO8Oa"
      }
    },
    {
      "cell_type": "code",
      "source": [
        "# nutze Methode corr(), um Korrelation zwischen numerischen Spalten abzubilden\n",
        "# corr() ignoriert nicht-numerische Spalten\n",
        "# \"culmen\" entspricht Schnabel\n",
        "# \"flipper\" sind die Flügel der Pinguine\n",
        "# auf Korrelationen zwischen -0.6 und 0.6 achten (\"interessante Korrelation\")\n",
        "dropna_penguins.corr(numeric_only = True)"
      ],
      "metadata": {
        "id": "lcDNryhqoYPu"
      },
      "execution_count": null,
      "outputs": []
    },
    {
      "cell_type": "code",
      "source": [
        "# einfache Visualisierung Scatterplot-Matrix\n",
        "sns.pairplot(dropna_penguins, hue = \"species\")"
      ],
      "metadata": {
        "id": "8Ebv_KsNq8VJ"
      },
      "execution_count": null,
      "outputs": []
    },
    {
      "cell_type": "markdown",
      "source": [
        "### kNN-Klassifikation ausprobieren"
      ],
      "metadata": {
        "id": "jIDuYFqEPAKi"
      }
    },
    {
      "cell_type": "code",
      "source": [
        "# lade Module für kNN-Klassifikation\n",
        "# https://scikit-learn.org/stable/modules/neighbors.html\n",
        "from sklearn.neighbors import NearestNeighbors\n",
        "from sklearn.neighbors import KNeighborsClassifier\n",
        "import sklearn.neighbors\n",
        "from sklearn.model_selection import train_test_split\n",
        "import numpy as np"
      ],
      "metadata": {
        "id": "RBj2Uh_0tGn9"
      },
      "execution_count": null,
      "outputs": []
    },
    {
      "cell_type": "markdown",
      "source": [
        "Tipp: hier mit unterschiedlichen k experimentieren (wie viele nächste Nachbarn zählen mit?)"
      ],
      "metadata": {
        "id": "35acNJlBPJnd"
      }
    },
    {
      "cell_type": "code",
      "source": [
        "# setze integer value für k nearest neighbors\n",
        "# check: Bewertung Modell in Zelle 213, wenn k größer oder kleiner als 6\n",
        "# mit k = 6 0.9523809523809523\n",
        "k = 3"
      ],
      "metadata": {
        "id": "zxFQCdWu-cjq"
      },
      "execution_count": null,
      "outputs": []
    },
    {
      "cell_type": "code",
      "source": [
        "# teile dataset auf in Klassenattribute (y) und features (X)\n",
        "# verwende culmen_length und flipper_lenght für die Klassifikation (sah im Scatterplot sinnvoll aus)\n",
        "X = dropna_penguins.drop([\"species\",\"island\",\"culmen_depth_mm\",\"body_mass_g\", \"sex\", \"target\"],axis=1)\n",
        "y = dropna_penguins[\"target\"]"
      ],
      "metadata": {
        "id": "1WIrxZCs_iTx"
      },
      "execution_count": null,
      "outputs": []
    },
    {
      "cell_type": "code",
      "source": [
        "sns.scatterplot(data = dropna_penguins, x = \"culmen_length_mm\", y = \"flipper_length_mm\", hue = \"target\")\n",
        "\n",
        "# setze Limits für x- und y-Achse\n",
        "plt.ylim(160, 240)\n",
        "plt.xlim(30, 65)"
      ],
      "metadata": {
        "id": "3Akl2-r1WgdS"
      },
      "execution_count": null,
      "outputs": []
    },
    {
      "cell_type": "code",
      "source": [
        "X"
      ],
      "metadata": {
        "id": "b3avML8MEqN2"
      },
      "execution_count": null,
      "outputs": []
    },
    {
      "cell_type": "code",
      "source": [
        "# teile X und y in train und test mit train_test_split (siehe Zelle 59)\n",
        "# https://scikit-learn.org/stable/modules/generated/sklearn.model_selection.train_test_split.html\n",
        "# default für test size ist 0.25 (wenn train size ebenfalls nicht spezifiziert)\n",
        "\n",
        "X_train, X_test, y_train, y_test = train_test_split(X, y, random_state = 19)"
      ],
      "metadata": {
        "id": "4JTdg_AJ_h--"
      },
      "execution_count": null,
      "outputs": []
    },
    {
      "cell_type": "code",
      "source": [
        "sns.scatterplot(data = X_train, x = \"culmen_length_mm\", y = \"flipper_length_mm\")\n",
        "\n",
        "# setze identische Limits für x- und y-Achse (Vergleichbarkeit!)\n",
        "plt.ylim(160, 240)\n",
        "plt.xlim(30, 65)"
      ],
      "metadata": {
        "id": "Nqdbs6AtV67e"
      },
      "execution_count": null,
      "outputs": []
    },
    {
      "cell_type": "code",
      "source": [
        "sns.scatterplot(data = X_test, x = \"culmen_length_mm\", y = \"flipper_length_mm\")\n",
        "\n",
        "# setze identische Limits für x- und y-Achse (Vergleichbarkeit!)\n",
        "plt.ylim(160, 240)\n",
        "plt.xlim(30, 65)"
      ],
      "metadata": {
        "id": "zF38pMMNW3jH"
      },
      "execution_count": null,
      "outputs": []
    },
    {
      "cell_type": "code",
      "source": [
        "# setze KNeighborsClassifier in Variable clf und trainiere Modell mit clf.fit()\n",
        "clf = KNeighborsClassifier(n_neighbors = k)\n",
        "clf.fit(X_train, y_train)"
      ],
      "metadata": {
        "id": "DtOcOofFFjF7"
      },
      "execution_count": null,
      "outputs": []
    },
    {
      "cell_type": "code",
      "source": [
        "# schätze mit Modell die Klassenattribute für X-test Testdaten\n",
        "y_estimation = clf.predict(X_test)\n",
        "y_estimation"
      ],
      "metadata": {
        "id": "sarMYvORG2fJ"
      },
      "execution_count": null,
      "outputs": []
    },
    {
      "cell_type": "markdown",
      "source": [
        "### Evaluation kNN-Klassifikation"
      ],
      "metadata": {
        "id": "6UCuvgOjNWdn"
      }
    },
    {
      "cell_type": "code",
      "source": [
        "# das Modell bewerten mit clf.score()\n",
        "# aus der Dokumentation:\n",
        "# Return the mean accuracy on the given test data and labels.\n",
        "mean_accuracy = clf.score(X_test, y_test)\n",
        "mean_accuracy"
      ],
      "metadata": {
        "id": "RcQpgQ2gL8BH"
      },
      "execution_count": null,
      "outputs": []
    },
    {
      "cell_type": "markdown",
      "source": [
        "## Projekt 23S"
      ],
      "metadata": {
        "id": "t6p4jgy9l8kO"
      }
    },
    {
      "cell_type": "code",
      "source": [
        "# lade Module für lineare Regression\n",
        "# https://scikit-learn.org/stable/modules/generated/sklearn.linear_model.LinearRegression.html\n",
        "from sklearn.linear_model import LinearRegression\n",
        "from sklearn import datasets, linear_model"
      ],
      "metadata": {
        "id": "i-Zbi4eHWDoQ"
      },
      "execution_count": null,
      "outputs": []
    },
    {
      "cell_type": "code",
      "source": [
        "# Prüfe Informationen zum dataframe penguins\n",
        "print(penguins.info())"
      ],
      "metadata": {
        "id": "pjpZMxpUWXGc"
      },
      "execution_count": null,
      "outputs": []
    },
    {
      "cell_type": "code",
      "source": [
        "# verwerfe erneut alle Zeilen mit fehlenden Werten (missing vaues, NULL values)\n",
        "dropna_penguins = penguins.dropna()\n",
        "print(dropna_penguins.info())\n",
        "# bleiben 334 von 344 Zeilen"
      ],
      "metadata": {
        "id": "VSGvSIufXofq"
      },
      "execution_count": null,
      "outputs": []
    },
    {
      "cell_type": "code",
      "source": [
        "# Eintrag der Messwerte für flipper length und Gewicht pro Pinguin in ein zweidimensionales Koordinatensystem\n",
        "# Punktwolke\n",
        "sns.scatterplot(data = dropna_penguins, x = \"flipper_length_mm\", y = \"body_mass_g\")"
      ],
      "metadata": {
        "id": "pnepDhFiX217"
      },
      "execution_count": null,
      "outputs": []
    },
    {
      "cell_type": "code",
      "source": [
        "# Vermutung eines linearen Zusammenhangs\n",
        "dropna_penguins[[\"body_mass_g\",\"flipper_length_mm\"]].corr()"
      ],
      "metadata": {
        "id": "pGF93gJYdeuy"
      },
      "execution_count": null,
      "outputs": []
    },
    {
      "cell_type": "code",
      "source": [
        "# erzeuge Spalten X und Y\n",
        "X = dropna_penguins[\"flipper_length_mm\"]\n",
        "Y = dropna_penguins[\"body_mass_g\"]"
      ],
      "metadata": {
        "id": "3aUTMjcPZLy7"
      },
      "execution_count": null,
      "outputs": []
    },
    {
      "cell_type": "code",
      "source": [
        "# lineare Regression mit np.polyfit\n",
        "# https://numpy.org/doc/stable/reference/generated/numpy.polyfit.html\n",
        "# m ist die Steigung der Geraden\n",
        "# b ist der Schnittpunkt der Geraden mit der y-Achse\n",
        "m, b = np.polyfit(X, Y, 1)"
      ],
      "metadata": {
        "id": "AwrpSu7BZR2H"
      },
      "execution_count": null,
      "outputs": []
    },
    {
      "cell_type": "code",
      "source": [
        "# Eintrag der Ausgleichgeraden in das Koordiantensystem\n",
        "plt.plot(X, Y, \"o\", color = \"tab:blue\")\n",
        "plt.plot(X, m*X+b, color = \"tab:orange\")"
      ],
      "metadata": {
        "id": "6Pjo4SWYZUkv"
      },
      "execution_count": null,
      "outputs": []
    },
    {
      "cell_type": "code",
      "source": [
        "print(f\"Lineare Regression mit Python Paket numpy. Steigung: {m}. y-Achsenabschnitt: {b}\")\n",
        "# Frage: warum ist der y-Achsenabschnitt negativ?\n",
        "#Andreas: aufgrund der vorhandenen Daten bildet die Funktion das Gewicht erst bei Pinguinen mit Flipper length > 150,160 mm ab\n",
        "# stellt sich die Frage wie groß sind die Flipper bei neu geschlüpften Pinguinen\n",
        "Z = np.arange(-100,250,1)\n",
        "plt.plot(Z, m*Z+b)\n",
        "plt.plot(X, Y, 'o', color='black')\n",
        "plt.xlim(-100,250)\n",
        "plt.ylim(-8000,8000)\n",
        "plt.grid( axis='x')\n",
        "plt.grid( axis='y')\n",
        "plt.title(\"Weight Function = \" + str(round(m,2)) + \" * Flipper length \" + str(round(b,2)) + \"g\")\n",
        "plt.show()"
      ],
      "metadata": {
        "id": "ZPQcqDTUdavx"
      },
      "execution_count": null,
      "outputs": []
    },
    {
      "cell_type": "markdown",
      "source": [
        "zum testen Vektoren addiert - wenn Ursprung [0,0] wäre"
      ],
      "metadata": {
        "id": "l-Sjw2G4boPF"
      }
    },
    {
      "cell_type": "code",
      "source": [
        "m, b = np.polyfit(X, Y, 1)\n",
        "x1= X.sum()/200\n",
        "y1= Y.sum()/200\n",
        "print(x1,y1)"
      ],
      "metadata": {
        "id": "0-O9bIQRbp2Q"
      },
      "execution_count": null,
      "outputs": []
    },
    {
      "cell_type": "code",
      "source": [
        "plt.plot([0,x1], [0,y1])\n",
        "plt.plot(X, Y, \"o\", color = \"tab:blue\") #addition aller Vektoren\n",
        "plt.plot(X, m*X+b, color = \"tab:orange\") #regression line aus Daten\n",
        "plt.show()"
      ],
      "metadata": {
        "id": "FLwsW50FbpgY"
      },
      "execution_count": null,
      "outputs": []
    },
    {
      "cell_type": "markdown",
      "source": [
        "Regression mit Seaborn"
      ],
      "metadata": {
        "id": "P5LJZtbZb7Zm"
      }
    },
    {
      "cell_type": "code",
      "source": [
        "# alternativ: modelliere lineare Regression mit Python Paket seaborn\n",
        "# https://seaborn.pydata.org/generated/seaborn.regplot.html\n",
        "sns.regplot(x = X, y = Y)"
      ],
      "metadata": {
        "id": "OSLigt9qdt75"
      },
      "execution_count": null,
      "outputs": []
    },
    {
      "cell_type": "markdown",
      "source": [
        "### Berechnung mit unterschiedlicher Anzahl an Iterationen"
      ],
      "metadata": {
        "id": "UayuXNaUgHRi"
      }
    },
    {
      "cell_type": "code",
      "source": [
        "# Normalisieren der Werte in Spalte X und Y\n",
        "X_norm = (X - np.mean(X))/np.std(X)\n",
        "Y_norm = (Y - np.mean(Y))/np.std(Y)"
      ],
      "metadata": {
        "id": "cleP5tjKeSWz"
      },
      "execution_count": null,
      "outputs": []
    },
    {
      "cell_type": "code",
      "source": [
        "# erzeuge leere Liste für ...\n",
        "cost_1 = []"
      ],
      "metadata": {
        "id": "QZIy_6ejeeOv"
      },
      "execution_count": null,
      "outputs": []
    },
    {
      "cell_type": "code",
      "source": [
        "# schreibe Funktion E zur Berechnung\n",
        "#\n",
        "def E(m, b, X, Y):\n",
        "    costs = 1/(2*len(Y))*np.sum((m*X + b - Y)**2)\n",
        "    cost_1.append(costs)\n",
        "    return costs"
      ],
      "metadata": {
        "id": "jT9DAUhXesUI"
      },
      "execution_count": null,
      "outputs": []
    },
    {
      "cell_type": "code",
      "source": [
        "def dEdm(m, b, X, Y):\n",
        "    res = 1/len(X)*np.dot(m*X+b-Y,X)\n",
        "    return res\n",
        "\n",
        "def dEdb(m, b, X, Y):\n",
        "    res = 1/len(X) * np.sum(m*X+b-Y)\n",
        "    return res"
      ],
      "metadata": {
        "id": "67xaMi4ye84L"
      },
      "execution_count": null,
      "outputs": []
    },
    {
      "cell_type": "code",
      "source": [
        "def gradient_descent(dEdm, dEdb, m, b, X, Y, learning_rate, num_iterations, print_cost=False):\n",
        "    for iteration in range(num_iterations):\n",
        "        m_new = m -learning_rate * dEdm(m,b,X,Y)\n",
        "        b_new = b -learning_rate * dEdb(m,b,X,Y)\n",
        "        m = m_new\n",
        "        b = b_new\n",
        "        if print_cost:\n",
        "            print (f\"Cost after iteration {iteration}: {E(m, b, X, Y)}\")\n",
        "    return m, b"
      ],
      "metadata": {
        "id": "j1WmAVjMfHrb"
      },
      "execution_count": null,
      "outputs": []
    },
    {
      "cell_type": "markdown",
      "source": [
        "Anzahl Iterationen zu klein gewählt"
      ],
      "metadata": {
        "id": "bvqXwdq-Nt6S"
      }
    },
    {
      "cell_type": "code",
      "source": [
        "m_initial = 0; b_initial = 0; num_iterations = 5; learning_rate = 0.2\n",
        "m_gd, b_gd = gradient_descent(dEdm, dEdb, m_initial, b_initial,\n",
        "                              X_norm, Y_norm, learning_rate, num_iterations, print_cost=True)\n",
        "\n",
        "print(f\"Gradient descent result: m_min, b_min = {m_gd}, {b_gd}\")"
      ],
      "metadata": {
        "id": "s8Orz4QffMSg"
      },
      "execution_count": null,
      "outputs": []
    },
    {
      "cell_type": "code",
      "source": [
        "X_pred = np.array([170,180,190,200,210,220,220,230])\n",
        "# Use the same mean and standard deviation of the original training array X\n",
        "X_pred_norm = (X_pred - np.mean(X))/np.std(X)\n",
        "Y_pred_gd_norm = m_gd * X_pred_norm + b_gd\n",
        "# Use the same mean and standard deviation of the original training array Y\n",
        "Y_pred_gd = Y_pred_gd_norm * np.std(Y) + np.mean(Y)\n",
        "\n",
        "print(f\"Flipper Länge:\\n{X_pred}\")\n",
        "print(f\"Predictions of Body Mass:\\n{Y_pred_gd}\")"
      ],
      "metadata": {
        "id": "iSqy8f-gfOka"
      },
      "execution_count": null,
      "outputs": []
    },
    {
      "cell_type": "code",
      "source": [
        "x = 0\n",
        "for i in X_pred:\n",
        "    print(i-5 , '-' , i+5 , ':',dropna_penguins[dropna_penguins['flipper_length_mm'].between(i-5, i+5)]['body_mass_g'].mean().round(2),' / ', Y_pred_gd[x].round(2))\n",
        "    x+=1"
      ],
      "metadata": {
        "id": "ia5u233CfTc8"
      },
      "execution_count": null,
      "outputs": []
    },
    {
      "cell_type": "code",
      "source": [
        "dropna_penguins[dropna_penguins['flipper_length_mm'].between(160,180)]"
      ],
      "metadata": {
        "id": "gmDZKBbmff3R"
      },
      "execution_count": null,
      "outputs": []
    },
    {
      "cell_type": "code",
      "source": [
        "m,b = np.polyfit(X,Y,1)"
      ],
      "metadata": {
        "id": "8bppZT7Yflmg"
      },
      "execution_count": null,
      "outputs": []
    },
    {
      "cell_type": "code",
      "source": [
        "plt.scatter(X, Y,color='grey')\n",
        "# Berechnete Prediction Line Grün\n",
        "plt.plot(X_pred, Y_pred_gd,color='lightgreen', linewidth=10)\n",
        "# Regression Line mit Numpy in Rot\n",
        "plt.plot(X, m*X+b, color='red',  linewidth=2)\n",
        "plt.show()"
      ],
      "metadata": {
        "id": "4UR0jFjCfn5O"
      },
      "execution_count": null,
      "outputs": []
    },
    {
      "cell_type": "code",
      "source": [
        "plt.plot(cost_1)\n",
        "plt.show()\n",
        "cost_1 = []"
      ],
      "metadata": {
        "id": "IyMwtHI7frbH"
      },
      "execution_count": null,
      "outputs": []
    },
    {
      "cell_type": "code",
      "source": [
        "m_initial = 0; b_initial = 0; num_iterations = 15; learning_rate = 0.2\n",
        "m_gd, b_gd = gradient_descent(dEdm, dEdb, m_initial, b_initial,\n",
        "                              X_norm, Y_norm, learning_rate, num_iterations, print_cost=True)\n",
        "\n",
        "print(f\"Gradient descent result: m_min, b_min = {m_gd}, {b_gd}\")"
      ],
      "metadata": {
        "id": "8Pcgwi1XftgI"
      },
      "execution_count": null,
      "outputs": []
    },
    {
      "cell_type": "code",
      "source": [
        "X_pred = np.array([170,180,190,200,210,220,220,230])\n",
        "# Use the same mean and standard deviation of the original training array X\n",
        "X_pred_norm = (X_pred - np.mean(X))/np.std(X)\n",
        "Y_pred_gd_norm = m_gd * X_pred_norm + b_gd\n",
        "# Use the same mean and standard deviation of the original training array Y\n",
        "Y_pred_gd = Y_pred_gd_norm * np.std(Y) + np.mean(Y)\n",
        "\n",
        "print(f\"Flipper Länge:\\n{X_pred}\")\n",
        "print(f\"Predictions of Body Mass:\\n{Y_pred_gd}\")"
      ],
      "metadata": {
        "id": "-vVMSGbGfwhP"
      },
      "execution_count": null,
      "outputs": []
    },
    {
      "cell_type": "code",
      "source": [
        "m,b = np.polyfit(X,Y,1)"
      ],
      "metadata": {
        "id": "6mB-jBUTfzhz"
      },
      "execution_count": null,
      "outputs": []
    },
    {
      "cell_type": "code",
      "source": [
        "plt.scatter(X, Y,color='grey')\n",
        "#Berechnete Prediction Line Grün\n",
        "plt.plot(X_pred, Y_pred_gd,color='lightgreen', linewidth=10)\n",
        "#Regression Line mit Numpy in Rot\n",
        "plt.plot(X, m*X+b, color='red',  linewidth=2)\n",
        "plt.show()"
      ],
      "metadata": {
        "id": "7M--qLXjf0Ae"
      },
      "execution_count": null,
      "outputs": []
    },
    {
      "cell_type": "code",
      "source": [
        "plt.plot(cost_1)\n",
        "plt.show()\n",
        "cost_1 = []"
      ],
      "metadata": {
        "id": "mQIKZ9Fxf3KC"
      },
      "execution_count": null,
      "outputs": []
    },
    {
      "cell_type": "markdown",
      "source": [
        "Anzahl Iterationen zu groß gewählt"
      ],
      "metadata": {
        "id": "t6AYiKGfN381"
      }
    },
    {
      "cell_type": "code",
      "source": [
        "m_initial = 0; b_initial = 0; num_iterations = 200; learning_rate = 0.2\n",
        "m_gd, b_gd = gradient_descent(dEdm, dEdb, m_initial, b_initial,\n",
        "                              X_norm, Y_norm, learning_rate, num_iterations, print_cost=True)\n",
        "\n",
        "print(f\"Gradient descent result: m_min, b_min = {m_gd}, {b_gd}\")"
      ],
      "metadata": {
        "id": "oIfnYBVxf5P-"
      },
      "execution_count": null,
      "outputs": []
    },
    {
      "cell_type": "code",
      "source": [
        "X_pred = np.array([170,180,190,200,210,220,220,230])\n",
        "# Use the same mean and standard deviation of the original training array X\n",
        "X_pred_norm = (X_pred - np.mean(X))/np.std(X)\n",
        "Y_pred_gd_norm = m_gd * X_pred_norm + b_gd\n",
        "# Use the same mean and standard deviation of the original training array Y\n",
        "Y_pred_gd = Y_pred_gd_norm * np.std(Y) + np.mean(Y)\n",
        "\n",
        "print(f\"Flipper Länge:\\n{X_pred}\")\n",
        "print(f\"Predictions of Body Mass:\\n{Y_pred_gd}\")"
      ],
      "metadata": {
        "id": "WrNOdf9Nf8Dr"
      },
      "execution_count": null,
      "outputs": []
    },
    {
      "cell_type": "code",
      "source": [
        "m,b = np.polyfit(X,Y,1)"
      ],
      "metadata": {
        "id": "MgPm7gOdf-FH"
      },
      "execution_count": null,
      "outputs": []
    },
    {
      "cell_type": "code",
      "source": [
        "plt.scatter(X, Y,color='grey')\n",
        "#Berechnete Prediction Line Grün\n",
        "plt.plot(X_pred, Y_pred_gd,color='lightgreen', linewidth=10)\n",
        "#Regression Line mit Numpy in Rot\n",
        "plt.plot(X, m*X+b, color='red',  linewidth=2)\n",
        "plt.show()"
      ],
      "metadata": {
        "id": "QhuVZ6Fnf-fc"
      },
      "execution_count": null,
      "outputs": []
    },
    {
      "cell_type": "code",
      "source": [
        "plt.plot(cost_1)\n",
        "plt.show()\n",
        "cost_1 = []"
      ],
      "metadata": {
        "id": "_Tq421N6gBk1"
      },
      "execution_count": null,
      "outputs": []
    },
    {
      "cell_type": "code",
      "source": [
        "#residuals\n",
        "plt.scatter(X, Y-(m*X+b))"
      ],
      "metadata": {
        "id": "cTkDKBM04Ip8"
      },
      "execution_count": null,
      "outputs": []
    },
    {
      "cell_type": "markdown",
      "source": [
        "## mit unterschiedlicher Schrittweite"
      ],
      "metadata": {
        "id": "swnxjZJ4Kiac"
      }
    },
    {
      "cell_type": "markdown",
      "source": [
        "Schrittweite zu klein um effektive zu sein"
      ],
      "metadata": {
        "id": "oOHb9SH0LUyx"
      }
    },
    {
      "cell_type": "code",
      "source": [
        "m_initial = 0; b_initial = 0; num_iterations = 50; learning_rate = 0.001\n",
        "m_gd, b_gd = gradient_descent(dEdm, dEdb, m_initial, b_initial,\n",
        "                              X_norm, Y_norm, learning_rate, num_iterations, print_cost=True)\n",
        "\n",
        "print(f\"Gradient descent result: m_min, b_min = {m_gd}, {b_gd}\")"
      ],
      "metadata": {
        "id": "8bfDRC7rKd6h"
      },
      "execution_count": null,
      "outputs": []
    },
    {
      "cell_type": "code",
      "source": [
        "X_pred = np.array([170,180,190,200,210,220,220,230])\n",
        "# Use the same mean and standard deviation of the original training array X\n",
        "X_pred_norm = (X_pred - np.mean(X))/np.std(X)\n",
        "Y_pred_gd_norm = m_gd * X_pred_norm + b_gd\n",
        "# Use the same mean and standard deviation of the original training array Y\n",
        "Y_pred_gd = Y_pred_gd_norm * np.std(Y) + np.mean(Y)\n",
        "\n",
        "print(f\"Flipper Länge:\\n{X_pred}\")\n",
        "print(f\"Predictions of Body Mass:\\n{Y_pred_gd}\")"
      ],
      "metadata": {
        "id": "ej1yyzcpKd3t"
      },
      "execution_count": null,
      "outputs": []
    },
    {
      "cell_type": "code",
      "source": [
        "m,b = np.polyfit(X,Y,1)"
      ],
      "metadata": {
        "id": "45dKV_f2Kd1F"
      },
      "execution_count": null,
      "outputs": []
    },
    {
      "cell_type": "code",
      "source": [
        "plt.scatter(X, Y,color='grey')\n",
        "#Berechnete Prediction Line Grün\n",
        "plt.plot(X_pred, Y_pred_gd,color='lightgreen', linewidth=10)\n",
        "#Regression Line mit Numpy in Rot\n",
        "plt.plot(X, m*X+b, color='red',  linewidth=2)\n",
        "plt.show()"
      ],
      "metadata": {
        "id": "cYhnmDQhKdyc"
      },
      "execution_count": null,
      "outputs": []
    },
    {
      "cell_type": "code",
      "source": [
        "plt.plot(cost_1)\n",
        "plt.show()\n",
        "cost_1 = []"
      ],
      "metadata": {
        "id": "vnJEO1fOKdvx"
      },
      "execution_count": null,
      "outputs": []
    },
    {
      "cell_type": "markdown",
      "source": [
        "Schrittweite zu groß, überspringt"
      ],
      "metadata": {
        "id": "veClbbG_LcCj"
      }
    },
    {
      "cell_type": "code",
      "source": [
        "m_initial = 0; b_initial = 0; num_iterations = 50; learning_rate = 2\n",
        "m_gd, b_gd = gradient_descent(dEdm, dEdb, m_initial, b_initial,\n",
        "                              X_norm, Y_norm, learning_rate, num_iterations, print_cost=True)\n",
        "\n",
        "print(f\"Gradient descent result: m_min, b_min = {m_gd}, {b_gd}\")"
      ],
      "metadata": {
        "id": "qREO3b1uKdrC"
      },
      "execution_count": null,
      "outputs": []
    },
    {
      "cell_type": "code",
      "source": [
        "X_pred = np.array([170,180,190,200,210,220,220,230])\n",
        "# Use the same mean and standard deviation of the original training array X\n",
        "X_pred_norm = (X_pred - np.mean(X))/np.std(X)\n",
        "Y_pred_gd_norm = m_gd * X_pred_norm + b_gd\n",
        "# Use the same mean and standard deviation of the original training array Y\n",
        "Y_pred_gd = Y_pred_gd_norm * np.std(Y) + np.mean(Y)\n",
        "\n",
        "print(f\"Flipper Länge:\\n{X_pred}\")\n",
        "print(f\"Predictions of Body Mass:\\n{Y_pred_gd}\")"
      ],
      "metadata": {
        "id": "i41OXeKhKdoK"
      },
      "execution_count": null,
      "outputs": []
    },
    {
      "cell_type": "code",
      "source": [
        "m,b = np.polyfit(X,Y,1)"
      ],
      "metadata": {
        "id": "ZEMs5FUcLz2f"
      },
      "execution_count": null,
      "outputs": []
    },
    {
      "cell_type": "code",
      "source": [
        "plt.scatter(X, Y,color='grey')\n",
        "#Berechnete Prediction Line Grün\n",
        "plt.plot(X_pred, Y_pred_gd,color='lightgreen', linewidth=10)\n",
        "#Regression Line mit Numpy in Rot\n",
        "plt.plot(X, m*X+b, color='red',  linewidth=2)\n",
        "plt.show()"
      ],
      "metadata": {
        "id": "NvnwxDIIKdlW"
      },
      "execution_count": null,
      "outputs": []
    },
    {
      "cell_type": "code",
      "source": [
        "plt.plot(cost_1)\n",
        "plt.show()\n",
        "cost_1 = []"
      ],
      "metadata": {
        "id": "DeTQSJyXKdib"
      },
      "execution_count": null,
      "outputs": []
    },
    {
      "cell_type": "code",
      "source": [],
      "metadata": {
        "id": "HK-CU99UKdVx"
      },
      "execution_count": null,
      "outputs": []
    }
  ]
}